{
 "cells": [
  {
   "cell_type": "code",
   "execution_count": 8,
   "metadata": {},
   "outputs": [],
   "source": [
    "from structure import *"
   ]
  },
  {
   "cell_type": "code",
   "execution_count": 17,
   "metadata": {},
   "outputs": [],
   "source": [
    "Ni_matrix = fcc_supercell(2, \"Ni\", 3.52)"
   ]
  },
  {
   "cell_type": "code",
   "execution_count": 23,
   "metadata": {},
   "outputs": [
    {
     "name": "stdout",
     "output_type": "stream",
     "text": [
      "Directory 'lammps-data' created successfully.\n",
      "Directory 'db' created successfully.\n",
      "Directory 'lammps-data' already exists.\n",
      "Directory 'db' already exists.\n"
     ]
    }
   ],
   "source": [
    "NiFe_db = [\"NiFe5\", \"NiFe10\", \"NiFe15\", \"NiFe20\", \"NiFe25\", \"NiFe30\", \"NiFe35\", \"NiFe40\", \"NiFe45\", \"NiFe50\"\n",
    "            , \"NiFe55\", \"NiFe60\", \"NiFe65\", \"NiFe70\", \"NiFe75\", \"NiFe80\", \"NiFe85\", \"NiFe90\", \"NiFe95\", \"Fe\"]\n",
    "\n",
    "Fe_comp  = 0.05\n",
    "\n",
    "for i in range (2):\n",
    "\n",
    "    binary_configs(Ni_matrix, \"Fe\", Fe_comp, 10, \"%s\"%(NiFe_db[i]) , lmpdir=\"lammps-data\", dbdir=\"db\")    \n",
    "    Fe_comp += 0.05"
   ]
  },
  {
   "cell_type": "code",
   "execution_count": 19,
   "metadata": {},
   "outputs": [
    {
     "name": "stdout",
     "output_type": "stream",
     "text": [
      "Directory 'lammps-data' already exists.\n",
      "Directory 'db' already exists.\n",
      "Directory 'lammps-data' already exists.\n",
      "Directory 'db' already exists.\n",
      "Directory 'lammps-data' already exists.\n",
      "Directory 'db' already exists.\n",
      "Directory 'lammps-data' already exists.\n",
      "Directory 'db' already exists.\n",
      "Directory 'lammps-data' already exists.\n",
      "Directory 'db' already exists.\n",
      "Directory 'lammps-data' already exists.\n",
      "Directory 'db' already exists.\n",
      "Directory 'lammps-data' already exists.\n",
      "Directory 'db' already exists.\n",
      "Directory 'lammps-data' already exists.\n",
      "Directory 'db' already exists.\n",
      "Directory 'lammps-data' already exists.\n",
      "Directory 'db' already exists.\n",
      "Directory 'lammps-data' already exists.\n",
      "Directory 'db' already exists.\n",
      "Directory 'lammps-data' already exists.\n",
      "Directory 'db' already exists.\n",
      "Directory 'lammps-data' already exists.\n",
      "Directory 'db' already exists.\n",
      "Directory 'lammps-data' already exists.\n",
      "Directory 'db' already exists.\n",
      "Directory 'lammps-data' already exists.\n",
      "Directory 'db' already exists.\n",
      "Directory 'lammps-data' already exists.\n",
      "Directory 'db' already exists.\n",
      "Directory 'lammps-data' already exists.\n",
      "Directory 'db' already exists.\n",
      "Directory 'lammps-data' already exists.\n",
      "Directory 'db' already exists.\n",
      "Directory 'lammps-data' already exists.\n",
      "Directory 'db' already exists.\n",
      "Directory 'lammps-data' already exists.\n",
      "Directory 'db' already exists.\n",
      "Directory 'lammps-data' already exists.\n",
      "Directory 'db' already exists.\n",
      "Directory 'lammps-data' already exists.\n",
      "Directory 'db' already exists.\n"
     ]
    }
   ],
   "source": [
    "NiCr_db = [\"Ni\", \"NiCr5\", \"NiCr10\", \"NiCr15\", \"NiCr20\", \"NiCr25\", \"NiCr30\", \"NiCr35\", \"NiCr40\", \"NiCr45\", \"NiCr50\"\n",
    "            , \"NiCr55\", \"NiCr60\", \"NiCr65\", \"NiCr70\", \"NiCr75\", \"NiCr80\", \"NiCr85\", \"NiCr90\", \"NiCr95\", \"Cr\"]\n",
    "\n",
    "Cr_comp  = 0\n",
    "\n",
    "for i in range (len(NiCr_db)):\n",
    "\n",
    "    binary_configs(Ni_matrix, \"Cr\", Cr_comp, 10, \"%s\"%(NiCr_db[i]) , lmpdir=\"lammps-data\", dbdir=\"db\")    \n",
    "    Cr_comp += 0.05"
   ]
  },
  {
   "cell_type": "code",
   "execution_count": 21,
   "metadata": {},
   "outputs": [
    {
     "name": "stdout",
     "output_type": "stream",
     "text": [
      "Directory 'lammps-data' already exists.\n",
      "Directory 'db' already exists.\n",
      "Directory 'lammps-data' already exists.\n",
      "Directory 'db' already exists.\n",
      "Directory 'lammps-data' already exists.\n",
      "Directory 'db' already exists.\n",
      "Directory 'lammps-data' already exists.\n",
      "Directory 'db' already exists.\n",
      "Directory 'lammps-data' already exists.\n",
      "Directory 'db' already exists.\n",
      "Directory 'lammps-data' already exists.\n",
      "Directory 'db' already exists.\n",
      "Directory 'lammps-data' already exists.\n",
      "Directory 'db' already exists.\n",
      "Directory 'lammps-data' already exists.\n",
      "Directory 'db' already exists.\n",
      "Directory 'lammps-data' already exists.\n",
      "Directory 'db' already exists.\n",
      "Directory 'lammps-data' already exists.\n",
      "Directory 'db' already exists.\n",
      "Directory 'lammps-data' already exists.\n",
      "Directory 'db' already exists.\n",
      "Directory 'lammps-data' already exists.\n",
      "Directory 'db' already exists.\n",
      "Directory 'lammps-data' already exists.\n",
      "Directory 'db' already exists.\n",
      "Directory 'lammps-data' already exists.\n",
      "Directory 'db' already exists.\n",
      "Directory 'lammps-data' already exists.\n",
      "Directory 'db' already exists.\n",
      "Directory 'lammps-data' already exists.\n",
      "Directory 'db' already exists.\n",
      "Directory 'lammps-data' already exists.\n",
      "Directory 'db' already exists.\n",
      "Directory 'lammps-data' already exists.\n",
      "Directory 'db' already exists.\n",
      "Directory 'lammps-data' already exists.\n",
      "Directory 'db' already exists.\n"
     ]
    }
   ],
   "source": [
    "Fe_matrix = fcc_supercell(2, \"Fe\", 3.52)\n",
    "\n",
    "FeCr_db = [\"FeCr5\", \"FeCr10\", \"FeCr15\", \"FeCr20\", \"FeCr25\", \"FeCr30\", \"FeCr35\", \"FeCr40\", \"FeCr45\", \"FeCr50\"\n",
    "            , \"FeCr55\", \"FeCr60\", \"FeCr65\", \"FeCr70\", \"FeCr75\", \"FeCr80\", \"FeCr85\", \"FeCr90\", \"FeCr95\"]\n",
    "\n",
    "Cr_comp  = 0.05\n",
    "\n",
    "for i in range (len(FeCr_db)):\n",
    "\n",
    "    binary_configs(Fe_matrix, \"Cr\", Cr_comp, 10, \"%s\"%(FeCr_db[i]) , lmpdir=\"lammps-data\", dbdir=\"db\")    \n",
    "    Cr_comp += 0.05"
   ]
  }
 ],
 "metadata": {
  "kernelspec": {
   "display_name": "venv",
   "language": "python",
   "name": "python3"
  },
  "language_info": {
   "codemirror_mode": {
    "name": "ipython",
    "version": 3
   },
   "file_extension": ".py",
   "mimetype": "text/x-python",
   "name": "python",
   "nbconvert_exporter": "python",
   "pygments_lexer": "ipython3",
   "version": "3.10.10"
  },
  "orig_nbformat": 4
 },
 "nbformat": 4,
 "nbformat_minor": 2
}
