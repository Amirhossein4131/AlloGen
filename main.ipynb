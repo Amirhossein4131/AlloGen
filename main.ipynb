{
 "cells": [
  {
   "cell_type": "code",
   "execution_count": 59,
   "metadata": {},
   "outputs": [],
   "source": [
    "from structure import *\n"
   ]
  },
  {
   "cell_type": "code",
   "execution_count": 60,
   "metadata": {},
   "outputs": [],
   "source": [
    "Ni_matrix = fcc_supercell(2, \"Ni\", 3.52)"
   ]
  },
  {
   "cell_type": "code",
   "execution_count": 61,
   "metadata": {},
   "outputs": [
    {
     "name": "stdout",
     "output_type": "stream",
     "text": [
      "Directory 'lammps-data' already exists.\n",
      "Directory 'lammps-data' already exists.\n",
      "Directory 'lammps-data' already exists.\n",
      "Directory 'lammps-data' already exists.\n",
      "Directory 'lammps-data' already exists.\n"
     ]
    }
   ],
   "source": [
    "NiAl_db = [\"Ni\", \"NiAl5\", \"NiAl10\", \"NiAl15\", \"NiAl20\", \"NiAl25\", \"NiAl30\", \"NiAl35\", \"NiAl40\", \"NiAl45\", \"NiAl50\"\n",
    "            , \"NiAl55\", \"NiAl60\", \"NiAl65\", \"NiAl70\", \"NiAl75\", \"NiAl80\", \"NiAl85\", \"NiAl90\", \"NiAl95\", \"Al\"]\n",
    "\n",
    "Al_comp  = 0\n",
    "\n",
    "for i in range (5):\n",
    "\n",
    "    binary_configs(Ni_matrix, \"Al\", Al_comp, 10, \"%s\"%(NiAl_db[i]) , lmpdir=\"lammps-data\")    \n",
    "    Al_comp += 0.05"
   ]
  }
 ],
 "metadata": {
  "kernelspec": {
   "display_name": "venv",
   "language": "python",
   "name": "python3"
  },
  "language_info": {
   "codemirror_mode": {
    "name": "ipython",
    "version": 3
   },
   "file_extension": ".py",
   "mimetype": "text/x-python",
   "name": "python",
   "nbconvert_exporter": "python",
   "pygments_lexer": "ipython3",
   "version": "3.10.10"
  },
  "orig_nbformat": 4
 },
 "nbformat": 4,
 "nbformat_minor": 2
}
