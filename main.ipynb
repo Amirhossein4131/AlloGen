{
 "cells": [
  {
   "cell_type": "code",
   "execution_count": 66,
   "metadata": {},
   "outputs": [],
   "source": [
    "import random\n",
    "\n",
    "from copy import deepcopy\n",
    "\n",
    "from ase import Atoms\n",
    "from ase.build import bulk\n",
    "from ase.visualize import view\n",
    "from ase.io import read, write\n"
   ]
  },
  {
   "cell_type": "code",
   "execution_count": 67,
   "metadata": {},
   "outputs": [
    {
     "data": {
      "text/plain": [
       "<subprocess.Popen at 0x7f3bf6c89310>"
      ]
     },
     "execution_count": 67,
     "metadata": {},
     "output_type": "execute_result"
    }
   ],
   "source": [
    "\n",
    "def fcc_supercell(supercell_size, atom_type, lattice_constant):\n",
    "    # Create a bulk FCC structure with the given lattice constant and atom type\n",
    "    bulk_fcc = bulk(atom_type, crystalstructure='fcc', a=lattice_constant, orthorhombic=True)\n",
    "\n",
    "    # Create a supercell of the bulk FCC structure with the given size\n",
    "    supercell = bulk_fcc.repeat(supercell_size)\n",
    "\n",
    "    return supercell\n",
    "\n",
    "Ni = fcc_supercell(3, \"Ni\", 3.16)\n",
    "view(Ni)"
   ]
  },
  {
   "cell_type": "code",
   "execution_count": 71,
   "metadata": {},
   "outputs": [],
   "source": [
    "def binary_configs(matrix, substitutional_type, percentage, num_configs, output_prefix):\n",
    "    \"\"\" Substitutes atoms in a matrix randomly and creates as many configurations as requested. \"\"\"\n",
    "    \n",
    "    # Create a list to store the resulting supercells\n",
    "    configs = []\n",
    "\n",
    "    for i in range(num_configs):\n",
    "        # Create a deep copy of the input supercell\n",
    "        new_supercell = deepcopy(matrix)\n",
    "\n",
    "        # Determine the number of atoms to be replaced based on the percentage\n",
    "        num_to_replace = int(len(new_supercell) * percentage)\n",
    "\n",
    "        # Select random atoms to be replaced\n",
    "        atoms_to_replace = random.sample(list(new_supercell), num_to_replace)\n",
    "\n",
    "        # Replace selected atoms with the substitutional type\n",
    "        for atom in atoms_to_replace:\n",
    "            atom.symbol = substitutional_type\n",
    "\n",
    "        # Add the resulting supercell to the list\n",
    "        configs.append(new_supercell)\n",
    "\n",
    "        # Write the supercell as an XYZ file with the specified output prefix and index number\n",
    "        write(f'{output_prefix}_{i}.xyz', new_supercell)\n",
    "\n",
    "    return configs"
   ]
  },
  {
   "cell_type": "code",
   "execution_count": 72,
   "metadata": {},
   "outputs": [
    {
     "data": {
      "text/plain": [
       "[Atoms(symbols='Ni4AlNi4Al2Ni17AlNi8AlNi16', pbc=True, cell=[6.70337228564847, 6.70337228564847, 9.48]),\n",
       " Atoms(symbols='Ni16AlNi4Al2Ni2AlNi6AlNi21', pbc=True, cell=[6.70337228564847, 6.70337228564847, 9.48]),\n",
       " Atoms(symbols='Ni6AlNiAlNi2AlNi18AlNi10AlNi12', pbc=True, cell=[6.70337228564847, 6.70337228564847, 9.48]),\n",
       " Atoms(symbols='Ni13AlNi11Al2Ni8AlNi8AlNi9', pbc=True, cell=[6.70337228564847, 6.70337228564847, 9.48]),\n",
       " Atoms(symbols='Ni3Al3Ni6AlNi29AlNi11', pbc=True, cell=[6.70337228564847, 6.70337228564847, 9.48])]"
      ]
     },
     "execution_count": 72,
     "metadata": {},
     "output_type": "execute_result"
    }
   ],
   "source": [
    "binary_configs(Ni, \"Al\", 0.10, 5, \"Ni10Al\")"
   ]
  }
 ],
 "metadata": {
  "kernelspec": {
   "display_name": "venv",
   "language": "python",
   "name": "python3"
  },
  "language_info": {
   "codemirror_mode": {
    "name": "ipython",
    "version": 3
   },
   "file_extension": ".py",
   "mimetype": "text/x-python",
   "name": "python",
   "nbconvert_exporter": "python",
   "pygments_lexer": "ipython3",
   "version": "3.8.10"
  },
  "orig_nbformat": 4
 },
 "nbformat": 4,
 "nbformat_minor": 2
}
